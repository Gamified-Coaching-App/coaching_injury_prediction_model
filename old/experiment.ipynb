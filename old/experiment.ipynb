{
 "cells": [
  {
   "cell_type": "code",
   "execution_count": 1,
   "metadata": {},
   "outputs": [
    {
     "ename": "ModuleNotFoundError",
     "evalue": "No module named 'xgboost'",
     "output_type": "error",
     "traceback": [
      "\u001b[0;31m---------------------------------------------------------------------------\u001b[0m",
      "\u001b[0;31mModuleNotFoundError\u001b[0m                       Traceback (most recent call last)",
      "Cell \u001b[0;32mIn[1], line 5\u001b[0m\n\u001b[1;32m      3\u001b[0m \u001b[38;5;28;01mfrom\u001b[39;00m \u001b[38;5;21;01mtorch\u001b[39;00m\u001b[38;5;21;01m.\u001b[39;00m\u001b[38;5;21;01mutils\u001b[39;00m\u001b[38;5;21;01m.\u001b[39;00m\u001b[38;5;21;01mdata\u001b[39;00m \u001b[38;5;28;01mimport\u001b[39;00m DataLoader, TensorDataset\n\u001b[1;32m      4\u001b[0m \u001b[38;5;28;01mfrom\u001b[39;00m \u001b[38;5;21;01msklearn\u001b[39;00m\u001b[38;5;21;01m.\u001b[39;00m\u001b[38;5;21;01mmetrics\u001b[39;00m \u001b[38;5;28;01mimport\u001b[39;00m roc_auc_score\n\u001b[0;32m----> 5\u001b[0m \u001b[38;5;28;01mimport\u001b[39;00m \u001b[38;5;21;01mxgboost\u001b[39;00m \u001b[38;5;28;01mas\u001b[39;00m \u001b[38;5;21;01mxgb\u001b[39;00m\n\u001b[1;32m      7\u001b[0m \u001b[38;5;28;01mfrom\u001b[39;00m \u001b[38;5;21;01mRunningDataset\u001b[39;00m \u001b[38;5;28;01mimport\u001b[39;00m RunningDataset\n\u001b[1;32m      8\u001b[0m \u001b[38;5;28;01mfrom\u001b[39;00m \u001b[38;5;21;01mautoencoder\u001b[39;00m \u001b[38;5;28;01mimport\u001b[39;00m Autoencoder\n",
      "\u001b[0;31mModuleNotFoundError\u001b[0m: No module named 'xgboost'"
     ]
    }
   ],
   "source": [
    "import numpy as np\n",
    "import torch\n",
    "from torch.utils.data import DataLoader, TensorDataset\n",
    "from sklearn.metrics import roc_auc_score\n",
    "import xgboost as xgb\n",
    "\n",
    "from RunningDataset import RunningDataset\n",
    "from autoencoder import Autoencoder\n",
    "\n",
    "class XGBoostClassifier:\n",
    "    def __init__(self):\n",
    "        self.autoencoder = Autoencoder()\n",
    "        self.model = xgb.XGBClassifier(use_label_encoder=False, eval_metric='logloss')\n",
    "    \n",
    "    def encode_features(self, dataset, model_path=None):\n",
    "        loader = DataLoader(dataset, batch_size=512, shuffle=False)\n",
    "        features = []\n",
    "\n",
    "        if model_path:\n",
    "            self.autoencoder.load_state_dict(torch.load(model_path))\n",
    "\n",
    "        self.autoencoder.eval()\n",
    "        with torch.no_grad():\n",
    "            for x, _ in loader:\n",
    "                encoded = self.autoencoder.encode_sample(x).cpu().numpy()\n",
    "                features.append(encoded)\n",
    "\n",
    "        return np.vstack(features)\n",
    "\n",
    "    def fit(self, X_train, y_train):\n",
    "        self.model.fit(X_train, y_train)\n",
    "\n",
    "    def predict(self, X):\n",
    "        return self.model.predict_proba(X)[:, 1]\n",
    "\n",
    "    def evaluate(self, X_test, y_test):\n",
    "        y_pred = self.predict(X_test)\n",
    "        auc_score = roc_auc_score(y_test, y_pred)\n",
    "        return auc_score\n",
    "\n",
    "def run():\n",
    "    dataset = RunningDataset()\n",
    "    X_train, y_train, X_test, y_test = dataset.preprocess()\n",
    "\n",
    "    autoencoder = Autoencoder()\n",
    "    train_dataset = TensorDataset(torch.Tensor(X_train), torch.Tensor(X_train))\n",
    "    test_dataset = TensorDataset(torch.Tensor(X_test), torch.Tensor(X_test))\n",
    "\n",
    "    # Assume autoencoder is already trained and saved\n",
    "    # autoencoder.train_model(train_loader) # Placeholder if training is needed\n",
    "\n",
    "    classifier = XGBoostClassifier()\n",
    "    encoded_X_train = classifier.encode_features(train_dataset, 'saved_autoencoder_models/autoencoder_epoch_100.pth')\n",
    "    encoded_X_test = classifier.encode_features(test_dataset, 'saved_autoencoder_models/autoencoder_epoch_100.pth')\n",
    "\n",
    "    # Convert labels to numpy arrays\n",
    "    y_train_np = np.array(y_train)\n",
    "    y_test_np = np.array(y_test)\n",
    "\n",
    "    classifier.fit(encoded_X_train, y_train_np)\n",
    "    auc = classifier.evaluate(encoded_X_test, y_test_np)\n",
    "    print(f\"AUC Score: {auc:.4f}\")"
   ]
  },
  {
   "cell_type": "code",
   "execution_count": null,
   "metadata": {},
   "outputs": [],
   "source": []
  }
 ],
 "metadata": {
  "kernelspec": {
   "display_name": "venv_coaching_01",
   "language": "python",
   "name": "python3"
  },
  "language_info": {
   "codemirror_mode": {
    "name": "ipython",
    "version": 3
   },
   "file_extension": ".py",
   "mimetype": "text/x-python",
   "name": "python",
   "nbconvert_exporter": "python",
   "pygments_lexer": "ipython3",
   "version": "3.12.2"
  }
 },
 "nbformat": 4,
 "nbformat_minor": 2
}
